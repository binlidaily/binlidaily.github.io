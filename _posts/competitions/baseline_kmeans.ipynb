{
 "cells": [
  {
   "cell_type": "code",
   "execution_count": 14,
   "metadata": {},
   "outputs": [],
   "source": [
    "import numpy as np\n",
    "import pandas as pd\n",
    "import matplotlib.pyplot as plt\n",
    "import seaborn as sns\n",
    "\n",
    "import warnings\n",
    "warnings.filterwarnings('ignore')\n",
    "\n",
    "train_path = '/Users/Bin/Downloads/datasets/BDCI2018/train.csv'\n",
    "test_path = '/Users/Bin/Downloads/datasets/BDCI2018/test.csv'\n",
    "\n",
    "train_raw = pd.read_csv(train_path, sep=',')\n",
    "test_raw = pd.read_csv(test_path, sep=',')"
   ]
  },
  {
   "cell_type": "code",
   "execution_count": 15,
   "metadata": {},
   "outputs": [],
   "source": [
    "# construct the training data and testing data\n",
    "y_train = train_raw.pop('current_service')\n",
    "train_id = train_raw.pop('user_id')\n",
    "X_train = train_raw\n",
    "train_cols = X_train.columns\n",
    "\n",
    "X_test = test_raw[train_cols]\n",
    "test_id = test_raw.pop('user_id')"
   ]
  },
  {
   "cell_type": "code",
   "execution_count": 16,
   "metadata": {},
   "outputs": [],
   "source": [
    "# deal with the raw data\n",
    "# TODO\n",
    "for col in train_cols:\n",
    "    X_train[col] = X_train[col].replace('\\\\N', -1)\n",
    "    X_test[col] = X_test[col].replace('\\\\N', -1)\n",
    "    \n",
    "# X_train, y, X_test = X_train.values, y_train, X_test.values"
   ]
  },
  {
   "cell_type": "code",
   "execution_count": 17,
   "metadata": {
    "scrolled": false
   },
   "outputs": [],
   "source": [
    "# standrad scale encoding\n",
    "from sklearn.preprocessing import StandardScaler\n",
    "\n",
    "feat_one_hot = ['service_type', 'is_mix_service', 'many_over_bill', 'contract_type', \n",
    "                'is_promise_low_consume', 'net_service', 'gender']\n",
    "\n",
    "std_encoder = StandardScaler()\n",
    "feat_std_enc = [item for item in train_cols if item not in feat_one_hot]\n",
    "\n",
    "train = X_train\n",
    "train[feat_std_enc] = std_encoder.fit_transform(X_train[feat_std_enc])\n",
    "# print X_train.describe()\n",
    "# print train.describe()\n",
    "\n",
    "test = X_test\n",
    "test[feat_std_enc] = std_encoder.fit_transform(X_test[feat_std_enc])"
   ]
  },
  {
   "cell_type": "code",
   "execution_count": 18,
   "metadata": {},
   "outputs": [],
   "source": [
    "# one-hot encoding\n",
    "# feat_one_hot = ['service_type', 'is_mix_service', 'many_over_bill', 'contract_type', \n",
    "#                 'is_promise_low_consume', 'net_service', 'gender']\n",
    "for feat in feat_one_hot:\n",
    "    # Type cast\n",
    "    X_train[feat] = X_train[feat].map(lambda x: int(x))\n",
    "    train_feat = pd.get_dummies(X_train[feat], prefix=feat)\n",
    "    X_train = X_train.drop([feat], axis=1)\n",
    "    X_train = pd.concat([X_train, train_feat], axis=1)\n",
    "    \n",
    "    X_test[feat] = X_test[feat].map(lambda x: int(x))\n",
    "    test_feat = pd.get_dummies(X_test[feat], prefix=feat)\n",
    "    X_test = X_test.drop([feat], axis=1)\n",
    "    X_test = pd.concat([X_test, test_feat], axis=1)"
   ]
  },
  {
   "cell_type": "code",
   "execution_count": 19,
   "metadata": {},
   "outputs": [
    {
     "name": "stdout",
     "output_type": "stream",
     "text": [
      "{0: 89950166, 1: 89950167, 2: 89950168, 3: 90063345, 4: 90109916, 5: 90155946, 6: 99999825, 7: 99999826, 8: 99999827, 9: 99999828, 10: 99999830}\n",
      "{99999830: 10, 99999825: 6, 90155946: 5, 90063345: 3, 99999826: 7, 99999827: 8, 99999828: 9, 89950166: 0, 89950167: 1, 89950168: 2, 90109916: 4}\n"
     ]
    }
   ],
   "source": [
    "# use the dict to map the label and raw number\n",
    "label2current_service = dict(zip(range(0, len(set(y_train))), sorted(list(set(y_train)))))\n",
    "print label2current_service\n",
    "current_service2label = dict(zip(sorted(list(set(y_train))), range(0, len(set(y_train)))))\n",
    "print current_service2label"
   ]
  },
  {
   "cell_type": "code",
   "execution_count": 20,
   "metadata": {},
   "outputs": [],
   "source": [
    "# map the raw training data\n",
    "y_train = y_train.map(current_service2label)"
   ]
  },
  {
   "cell_type": "code",
   "execution_count": 21,
   "metadata": {},
   "outputs": [],
   "source": [
    "# use k-fold corss-validation\n",
    "from sklearn.model_selection import StratifiedKFold\n",
    "from sklearn.metrics import f1_score\n",
    "import numpy as np\n",
    "\n",
    "def f1_score_val(preds, data_val):\n",
    "    labels = data_val.get_label()\n",
    "    preds = np.argmax(preds.reshape(15, -1), axis=0)\n",
    "    #     Returns the indices of the maximum values along an axis.\n",
    "    score_val = f1_score(y_true=labels, y_pred=preds, average='weighted')\n",
    "    return 'f1 score', score_val, True"
   ]
  },
  {
   "cell_type": "code",
   "execution_count": 22,
   "metadata": {},
   "outputs": [
    {
     "name": "stdout",
     "output_type": "stream",
     "text": [
      "743990 743990\n"
     ]
    }
   ],
   "source": [
    "# reference configuration\n",
    "n_splits = 5\n",
    "seed = 42\n",
    "print len(X_train), len(y_train)"
   ]
  },
  {
   "cell_type": "code",
   "execution_count": 23,
   "metadata": {},
   "outputs": [],
   "source": [
    "X_test = X_test.values\n",
    "X_train = X_train.values"
   ]
  },
  {
   "cell_type": "code",
   "execution_count": 27,
   "metadata": {},
   "outputs": [
    {
     "name": "stdout",
     "output_type": "stream",
     "text": [
      "('---------------->', 0)\n"
     ]
    },
    {
     "ename": "KeyboardInterrupt",
     "evalue": "",
     "output_type": "error",
     "traceback": [
      "\u001b[0;31m---------------------------------------------------------------------------\u001b[0m",
      "\u001b[0;31mKeyboardInterrupt\u001b[0m                         Traceback (most recent call last)",
      "\u001b[0;32m<ipython-input-27-8f8180ae176b>\u001b[0m in \u001b[0;36m<module>\u001b[0;34m()\u001b[0m\n\u001b[1;32m     14\u001b[0m \u001b[0;34m\u001b[0m\u001b[0m\n\u001b[1;32m     15\u001b[0m     \u001b[0mclf\u001b[0m \u001b[0;34m=\u001b[0m \u001b[0mKNeighborsClassifier\u001b[0m\u001b[0;34m(\u001b[0m\u001b[0mn_neighbors\u001b[0m\u001b[0;34m=\u001b[0m\u001b[0;36m15\u001b[0m\u001b[0;34m)\u001b[0m\u001b[0;34m\u001b[0m\u001b[0m\n\u001b[0;32m---> 16\u001b[0;31m     \u001b[0mclf\u001b[0m\u001b[0;34m.\u001b[0m\u001b[0mfit\u001b[0m\u001b[0;34m(\u001b[0m\u001b[0mX_tra\u001b[0m\u001b[0;34m,\u001b[0m \u001b[0my_tra\u001b[0m\u001b[0;34m)\u001b[0m\u001b[0;34m\u001b[0m\u001b[0m\n\u001b[0m\u001b[1;32m     17\u001b[0m \u001b[0;34m\u001b[0m\u001b[0m\n\u001b[1;32m     18\u001b[0m     \u001b[0my_pred\u001b[0m \u001b[0;34m=\u001b[0m \u001b[0mclf\u001b[0m\u001b[0;34m.\u001b[0m\u001b[0mpredict\u001b[0m\u001b[0;34m(\u001b[0m\u001b[0mX_val\u001b[0m\u001b[0;34m)\u001b[0m\u001b[0;34m\u001b[0m\u001b[0m\n",
      "\u001b[0;32m/Users/Bin/anaconda2/envs/py2/lib/python2.7/site-packages/sklearn/neighbors/base.pyc\u001b[0m in \u001b[0;36mfit\u001b[0;34m(self, X, y)\u001b[0m\n\u001b[1;32m    788\u001b[0m             \u001b[0mself\u001b[0m\u001b[0;34m.\u001b[0m\u001b[0m_y\u001b[0m \u001b[0;34m=\u001b[0m \u001b[0mself\u001b[0m\u001b[0;34m.\u001b[0m\u001b[0m_y\u001b[0m\u001b[0;34m.\u001b[0m\u001b[0mravel\u001b[0m\u001b[0;34m(\u001b[0m\u001b[0;34m)\u001b[0m\u001b[0;34m\u001b[0m\u001b[0m\n\u001b[1;32m    789\u001b[0m \u001b[0;34m\u001b[0m\u001b[0m\n\u001b[0;32m--> 790\u001b[0;31m         \u001b[0;32mreturn\u001b[0m \u001b[0mself\u001b[0m\u001b[0;34m.\u001b[0m\u001b[0m_fit\u001b[0m\u001b[0;34m(\u001b[0m\u001b[0mX\u001b[0m\u001b[0;34m)\u001b[0m\u001b[0;34m\u001b[0m\u001b[0m\n\u001b[0m\u001b[1;32m    791\u001b[0m \u001b[0;34m\u001b[0m\u001b[0m\n\u001b[1;32m    792\u001b[0m \u001b[0;34m\u001b[0m\u001b[0m\n",
      "\u001b[0;32m/Users/Bin/anaconda2/envs/py2/lib/python2.7/site-packages/sklearn/neighbors/base.pyc\u001b[0m in \u001b[0;36m_fit\u001b[0;34m(self, X)\u001b[0m\n\u001b[1;32m    246\u001b[0m             self._tree = KDTree(X, self.leaf_size,\n\u001b[1;32m    247\u001b[0m                                 \u001b[0mmetric\u001b[0m\u001b[0;34m=\u001b[0m\u001b[0mself\u001b[0m\u001b[0;34m.\u001b[0m\u001b[0meffective_metric_\u001b[0m\u001b[0;34m,\u001b[0m\u001b[0;34m\u001b[0m\u001b[0m\n\u001b[0;32m--> 248\u001b[0;31m                                 **self.effective_metric_params_)\n\u001b[0m\u001b[1;32m    249\u001b[0m         \u001b[0;32melif\u001b[0m \u001b[0mself\u001b[0m\u001b[0;34m.\u001b[0m\u001b[0m_fit_method\u001b[0m \u001b[0;34m==\u001b[0m \u001b[0;34m'brute'\u001b[0m\u001b[0;34m:\u001b[0m\u001b[0;34m\u001b[0m\u001b[0m\n\u001b[1;32m    250\u001b[0m             \u001b[0mself\u001b[0m\u001b[0;34m.\u001b[0m\u001b[0m_tree\u001b[0m \u001b[0;34m=\u001b[0m \u001b[0mNone\u001b[0m\u001b[0;34m\u001b[0m\u001b[0m\n",
      "\u001b[0;31mKeyboardInterrupt\u001b[0m: "
     ]
    }
   ],
   "source": [
    "from sklearn.neighbors import KNeighborsClassifier\n",
    "\n",
    "\n",
    "x_score = []\n",
    "cv_pred = []\n",
    "\n",
    "skf = StratifiedKFold(n_splits=n_splits, random_state=seed, shuffle=True)\n",
    "\n",
    "for index, (train_index, test_index) in enumerate(skf.split(X_train, y_train)):\n",
    "    print('---------------->', index) # 0-4\n",
    "#     print train_index, test_index\n",
    "    \n",
    "    X_tra, X_val, y_tra, y_val = X_train[train_index], X_train[test_index], y_train[train_index], y_train[test_index]\n",
    "    \n",
    "    clf = KNeighborsClassifier(n_neighbors=15)\n",
    "    clf.fit(X_tra, y_tra)\n",
    "    \n",
    "    y_pred = clf.predict(X_val)\n",
    "    y_pred = [np.argmax(item) for item in y_pred]\n",
    "    # TODO\n",
    "    x_score.append(f1_score(y_val, y_pred, average='weighted'))\n",
    "    \n",
    "    # for whole testing set\n",
    "    y_test = clf.predict(X_test)\n",
    "    y_test = [np.argmax(item) for item in y_test]\n",
    "    \n",
    "    if index == 0:\n",
    "        cv_pred = np.array(y_test).reshape(-1, 1)\n",
    "    else:\n",
    "        cv_pred = np.hstack((cv_pred, np.array(y_test).reshape(-1, 1)))"
   ]
  },
  {
   "cell_type": "code",
   "execution_count": 117,
   "metadata": {},
   "outputs": [
    {
     "name": "stdout",
     "output_type": "stream",
     "text": [
      "([0.8572329014288665, 0.8574373279964715, 0.8556611411738219, 0.8560228566949167, 0.8574183506768198], 0.8567545155941794)\n"
     ]
    }
   ],
   "source": [
    "# vote for the results\n",
    "y_result = []\n",
    "\n",
    "for line in cv_pred:\n",
    "    # bincount: Count number of occurrences of each value in array of non-negative ints.\n",
    "    y_result.append(np.argmax(np.bincount(line)))\n",
    "\n",
    "# save the result\n",
    "df_summit = pd.DataFrame()\n",
    "df_summit['user_id'] = list(test_id.unique())\n",
    "df_summit['predict'] = y_result\n",
    "df_summit['predict'] = df_summit['predict'].map(label2current_service)\n",
    "\n",
    "df_summit.to_csv('./submission.csv', index=False)\n",
    "\n",
    "print(x_score, np.mean(x_score))"
   ]
  },
  {
   "cell_type": "code",
   "execution_count": null,
   "metadata": {},
   "outputs": [],
   "source": []
  }
 ],
 "metadata": {
  "kernelspec": {
   "display_name": "Python 2",
   "language": "python",
   "name": "python2"
  },
  "language_info": {
   "codemirror_mode": {
    "name": "ipython",
    "version": 2
   },
   "file_extension": ".py",
   "mimetype": "text/x-python",
   "name": "python",
   "nbconvert_exporter": "python",
   "pygments_lexer": "ipython2",
   "version": "2.7.15"
  }
 },
 "nbformat": 4,
 "nbformat_minor": 2
}
